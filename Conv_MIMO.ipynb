{
  "nbformat": 4,
  "nbformat_minor": 0,
  "metadata": {
    "colab": {
      "provenance": [],
      "authorship_tag": "ABX9TyMT0ZvOuSDkeDP4xf5kPpmA",
      "include_colab_link": true
    },
    "kernelspec": {
      "name": "python3",
      "display_name": "Python 3"
    },
    "language_info": {
      "name": "python"
    }
  },
  "cells": [
    {
      "cell_type": "markdown",
      "metadata": {
        "id": "view-in-github",
        "colab_type": "text"
      },
      "source": [
        "<a href=\"https://colab.research.google.com/github/trueMars/DiveIntoDeepLearning/blob/main/Conv_MIMO.ipynb\" target=\"_parent\"><img src=\"https://colab.research.google.com/assets/colab-badge.svg\" alt=\"Open In Colab\"/></a>"
      ]
    },
    {
      "cell_type": "markdown",
      "source": [
        "课件见https://zh-v2.d2l.ai/chapter_convolutional-neural-networks/channels.html"
      ],
      "metadata": {
        "id": "jZ2P6w-gFdkY"
      }
    },
    {
      "cell_type": "markdown",
      "source": [
        "MIMO(多输入多输入通道)\n",
        "\n",
        "*   每个输入通道对于不同的卷积核\n",
        "*   每个输出通道可以识别特定模式\n"
      ],
      "metadata": {
        "id": "SclrCyPDEPa5"
      }
    },
    {
      "cell_type": "markdown",
      "source": [
        "1x1卷积层(h==w==1)\n",
        "不识别空间模式，只是融合通道，相当于输入形状为hw x Ci,权重为Co x Ci的全连接层"
      ],
      "metadata": {
        "id": "wRe1L_j6FNjP"
      }
    },
    {
      "cell_type": "code",
      "execution_count": 1,
      "metadata": {
        "id": "_Hn3YEY1EN7Q"
      },
      "outputs": [],
      "source": [
        "import torch\n",
        "from torch import nn\n",
        "\n",
        "def corr2d(X, K):\n",
        "  h, w = K.shape\n",
        "  Y = torch.zeros((X.shape[0] - h + 1, X.shape[1] - w + 1))\n",
        "  for i in range(Y.shape[0]):\n",
        "    for j in range(Y.shape[1]):\n",
        "      Y[i, j] = (X[i:i + h, j:j + w] * K).sum()\n",
        "  return Y"
      ]
    },
    {
      "cell_type": "code",
      "source": [
        "def corr2d_multi_input(X, K):\n",
        "  return sum(corr2d(x, k) for x, k in zip(X, K))"
      ],
      "metadata": {
        "id": "Jr6994zvHTdb"
      },
      "execution_count": 3,
      "outputs": []
    },
    {
      "cell_type": "code",
      "source": [
        "X = torch.tensor([[[0.0, 1.0, 2.0], [3.0, 4.0, 5.0], [6.0, 7.0, 8.0]],\n",
        "               [[1.0, 2.0, 3.0], [4.0, 5.0, 6.0], [7.0, 8.0, 9.0]]])\n",
        "K = torch.tensor([[[0.0, 1.0], [2.0, 3.0]], [[1.0, 2.0], [3.0, 4.0]]])\n",
        "\n",
        "corr2d_multi_input(X, K)"
      ],
      "metadata": {
        "colab": {
          "base_uri": "https://localhost:8080/"
        },
        "id": "P4YMF2ktH5G-",
        "outputId": "34cd5266-7e04-4623-8fa3-f6fad6479346"
      },
      "execution_count": 17,
      "outputs": [
        {
          "output_type": "execute_result",
          "data": {
            "text/plain": [
              "tensor([[ 56.,  72.],\n",
              "        [104., 120.]])"
            ]
          },
          "metadata": {},
          "execution_count": 17
        }
      ]
    },
    {
      "cell_type": "code",
      "source": [
        "X.shape,K.shape\n"
      ],
      "metadata": {
        "colab": {
          "base_uri": "https://localhost:8080/"
        },
        "id": "KO94hFN-IOCY",
        "outputId": "d7b07c3a-62d2-48fe-f073-29526eadf750"
      },
      "execution_count": 7,
      "outputs": [
        {
          "output_type": "execute_result",
          "data": {
            "text/plain": [
              "(torch.Size([2, 3, 3]), torch.Size([2, 2, 2]))"
            ]
          },
          "metadata": {},
          "execution_count": 7
        }
      ]
    },
    {
      "cell_type": "code",
      "source": [
        "def corr2d_multi_input_output(X, K):\n",
        "  return torch.stack([corr2d_multi_input(X, k) for k in K], 0)"
      ],
      "metadata": {
        "id": "oMEjOCMTHoIF"
      },
      "execution_count": 8,
      "outputs": []
    },
    {
      "cell_type": "code",
      "source": [
        "K = torch.stack((K, K + 1, K + 2), 0)\n",
        "K.shape,K"
      ],
      "metadata": {
        "colab": {
          "base_uri": "https://localhost:8080/"
        },
        "id": "OuSdde-HIwYc",
        "outputId": "44736e90-7cbb-4b36-d407-226f173186c6"
      },
      "execution_count": 18,
      "outputs": [
        {
          "output_type": "execute_result",
          "data": {
            "text/plain": [
              "(torch.Size([3, 2, 2, 2]),\n",
              " tensor([[[[0., 1.],\n",
              "           [2., 3.]],\n",
              " \n",
              "          [[1., 2.],\n",
              "           [3., 4.]]],\n",
              " \n",
              " \n",
              "         [[[1., 2.],\n",
              "           [3., 4.]],\n",
              " \n",
              "          [[2., 3.],\n",
              "           [4., 5.]]],\n",
              " \n",
              " \n",
              "         [[[2., 3.],\n",
              "           [4., 5.]],\n",
              " \n",
              "          [[3., 4.],\n",
              "           [5., 6.]]]]))"
            ]
          },
          "metadata": {},
          "execution_count": 18
        }
      ]
    },
    {
      "cell_type": "code",
      "source": [
        "ret = corr2d_multi_input_output(X, K)\n",
        "ret, ret.shape"
      ],
      "metadata": {
        "colab": {
          "base_uri": "https://localhost:8080/"
        },
        "id": "lmTSjGwHJQw2",
        "outputId": "567151a7-6919-4b45-b096-a8576c79ebc7"
      },
      "execution_count": 19,
      "outputs": [
        {
          "output_type": "execute_result",
          "data": {
            "text/plain": [
              "(tensor([[[ 56.,  72.],\n",
              "          [104., 120.]],\n",
              " \n",
              "         [[ 76., 100.],\n",
              "          [148., 172.]],\n",
              " \n",
              "         [[ 96., 128.],\n",
              "          [192., 224.]]]),\n",
              " torch.Size([3, 2, 2]))"
            ]
          },
          "metadata": {},
          "execution_count": 19
        }
      ]
    },
    {
      "cell_type": "code",
      "source": [
        "def corr2d_multi_input_output_1x1(X, K):\n",
        "  c_i, h, w = X.shape\n",
        "  c_o = K.shape[0]\n",
        "  X = X.reshape((c_i, h * w))\n",
        "  K = K.reshape((c_o, c_i))\n",
        "  Y = torch.matmul(K, X)\n",
        "  return Y.reshape((c_o, h, w))"
      ],
      "metadata": {
        "id": "2E3neyUZJgb3"
      },
      "execution_count": 15,
      "outputs": []
    },
    {
      "cell_type": "code",
      "source": [
        "X = torch.normal(0, 1, (3, 3, 3))\n",
        "K = torch.normal(0, 1, (2, 3, 1, 1))\n",
        "\n",
        "Y1 = corr2d_multi_input_output_1x1(X, K)\n",
        "Y2 = corr2d_multi_input_output(X, K)\n",
        "\n",
        "assert float(torch.abs(Y1 - Y2).sum()) < 1e-6"
      ],
      "metadata": {
        "id": "aSI8lK8XJ8sS"
      },
      "execution_count": 16,
      "outputs": []
    }
  ]
}